{
  "nbformat": 4,
  "nbformat_minor": 0,
  "metadata": {
    "colab": {
      "name": "Untitled5.ipynb",
      "provenance": [],
      "authorship_tag": "ABX9TyMEH3RFb5oqCqE3xRTJuNS1",
      "include_colab_link": true
    },
    "kernelspec": {
      "name": "python3",
      "display_name": "Python 3"
    },
    "language_info": {
      "name": "python"
    }
  },
  "cells": [
    {
      "cell_type": "markdown",
      "metadata": {
        "id": "view-in-github",
        "colab_type": "text"
      },
      "source": [
        "<a href=\"https://colab.research.google.com/github/Nataliia5722/Machine-Learning-Spring-2021/blob/main/Lab3.ipynb\" target=\"_parent\"><img src=\"https://colab.research.google.com/assets/colab-badge.svg\" alt=\"Open In Colab\"/></a>"
      ]
    },
    {
      "cell_type": "markdown",
      "metadata": {
        "id": "wLeuQj-3T9tT"
      },
      "source": [
        "#Bagging, DecisionTreeClassifier for random trees"
      ]
    },
    {
      "cell_type": "code",
      "metadata": {
        "id": "0kLda7m9MQrv"
      },
      "source": [
        "from sklearn.datasets import load_digits\n",
        "data, targe = load_digits(return_X_y=True)"
      ],
      "execution_count": 2,
      "outputs": []
    },
    {
      "cell_type": "code",
      "metadata": {
        "colab": {
          "base_uri": "https://localhost:8080/"
        },
        "id": "uyBhLsUOMVbf",
        "outputId": "52497615-0c9f-4bad-ea97-b0aced6cae3a"
      },
      "source": [
        "data"
      ],
      "execution_count": 3,
      "outputs": [
        {
          "output_type": "execute_result",
          "data": {
            "text/plain": [
              "array([[ 0.,  0.,  5., ...,  0.,  0.,  0.],\n",
              "       [ 0.,  0.,  0., ..., 10.,  0.,  0.],\n",
              "       [ 0.,  0.,  0., ..., 16.,  9.,  0.],\n",
              "       ...,\n",
              "       [ 0.,  0.,  1., ...,  6.,  0.,  0.],\n",
              "       [ 0.,  0.,  2., ..., 12.,  0.,  0.],\n",
              "       [ 0.,  0., 10., ..., 12.,  1.,  0.]])"
            ]
          },
          "metadata": {
            "tags": []
          },
          "execution_count": 3
        }
      ]
    },
    {
      "cell_type": "code",
      "metadata": {
        "colab": {
          "base_uri": "https://localhost:8080/"
        },
        "id": "6aVqefieMZck",
        "outputId": "7431f491-d2a3-4b94-86ab-90c7825ae906"
      },
      "source": [
        "targe"
      ],
      "execution_count": 4,
      "outputs": [
        {
          "output_type": "execute_result",
          "data": {
            "text/plain": [
              "array([0, 1, 2, ..., 8, 9, 8])"
            ]
          },
          "metadata": {
            "tags": []
          },
          "execution_count": 4
        }
      ]
    },
    {
      "cell_type": "code",
      "metadata": {
        "colab": {
          "base_uri": "https://localhost:8080/"
        },
        "id": "Pot3yObjcMmQ",
        "outputId": "c66cca64-49bf-4119-fd4b-d8642eddea7e"
      },
      "source": [
        "from sklearn import model_selection\n",
        "from sklearn.ensemble import BaggingClassifier\n",
        "from sklearn.tree import DecisionTreeClassifier\n",
        "import pandas as pd\n",
        "  \n",
        "# initialize the base classifier\n",
        "base_cls = DecisionTreeClassifier()\n",
        "  \n",
        "# bagging classifier\n",
        "model = BaggingClassifier(base_estimator = base_cls, \n",
        "                          n_estimators = 500,\n",
        "                          random_state = 0)\n",
        "  \n",
        "results = model_selection.cross_val_score(model, data, targe)\n",
        "print(\"accuracy :\")\n",
        "print(results.mean())"
      ],
      "execution_count": 5,
      "outputs": [
        {
          "output_type": "stream",
          "text": [
            "accuracy :\n",
            "0.9120875889817395\n"
          ],
          "name": "stdout"
        }
      ]
    },
    {
      "cell_type": "code",
      "metadata": {
        "colab": {
          "base_uri": "https://localhost:8080/"
        },
        "id": "VsxShAFM51YG",
        "outputId": "0b4298d0-e6c8-4f19-a0cb-2102f2e1117e"
      },
      "source": [
        "from sklearn import model_selection\n",
        "from sklearn.ensemble import BaggingClassifier\n",
        "from sklearn.tree import DecisionTreeClassifier\n",
        "import pandas as pd\n",
        "  \n",
        "# initialize the base classifier\n",
        "base_cls = DecisionTreeClassifier()\n",
        "  \n",
        "# bagging classifier\n",
        "model = BaggingClassifier(base_estimator = base_cls, \n",
        "                          n_estimators = 1500,\n",
        "                          random_state = 0)\n",
        "  \n",
        "results = model_selection.cross_val_score(model, data, targe)\n",
        "print(\"accuracy :\")\n",
        "print(results.mean())"
      ],
      "execution_count": 6,
      "outputs": [
        {
          "output_type": "stream",
          "text": [
            "accuracy :\n",
            "0.9115320334261838\n"
          ],
          "name": "stdout"
        }
      ]
    },
    {
      "cell_type": "code",
      "metadata": {
        "colab": {
          "base_uri": "https://localhost:8080/"
        },
        "id": "UOGNCJDqQGBn",
        "outputId": "ca59fd15-a34d-41d6-9c00-e423bb0dfe2b"
      },
      "source": [
        "from sklearn.model_selection import train_test_split\n",
        "from sklearn.metrics import confusion_matrix\n",
        "\n",
        "Xtrain, Xtest, ytrain, ytest = train_test_split(data, targe, random_state=0)\n",
        "\n",
        "dtc = DecisionTreeClassifier(random_state=1)\n",
        "for i in [100, 500, 1000, 2000]:\n",
        "    bag_model=BaggingClassifier(base_estimator=dtc, n_estimators=i, bootstrap=True)\n",
        "    bag_model=bag_model.fit(Xtrain,ytrain)\n",
        "    ytest_pred=bag_model.predict(Xtest)\n",
        "    print(bag_model.score(Xtest, ytest))\n",
        "#print(confusion_matrix(ytest, ytest_pred)) "
      ],
      "execution_count": 7,
      "outputs": [
        {
          "output_type": "stream",
          "text": [
            "0.9511111111111111\n",
            "0.9533333333333334\n",
            "0.9555555555555556\n",
            "0.9555555555555556\n"
          ],
          "name": "stdout"
        }
      ]
    },
    {
      "cell_type": "code",
      "metadata": {
        "id": "qQ5mdnPxVD_1",
        "outputId": "6f5c4c3e-a71e-418b-b028-ae136f5ce8cd",
        "colab": {
          "base_uri": "https://localhost:8080/"
        }
      },
      "source": [
        "from sklearn.model_selection import train_test_split\n",
        "from sklearn.metrics import confusion_matrix\n",
        "import numpy as np\n",
        "\n",
        "Xtrain, Xtest, ytrain, ytest = train_test_split(data, targe, random_state=0)\n",
        "\n",
        "dtc = DecisionTreeClassifier(random_state=1, max_depth=7)\n",
        "for i in [100, 500, 1000, 2000]:\n",
        "    bag_model=BaggingClassifier(base_estimator=dtc, n_estimators=i, bootstrap=True)\n",
        "    bag_model=bag_model.fit(Xtrain,ytrain)\n",
        "    ytest_pred=bag_model.predict(Xtest)\n",
        "    print(bag_model.score(Xtest, ytest))\n",
        "#print(confusion_matrix(ytest, ytest_pred)) "
      ],
      "execution_count": 12,
      "outputs": [
        {
          "output_type": "stream",
          "text": [
            "0.9177777777777778\n",
            "0.9177777777777778\n",
            "0.9155555555555556\n",
            "0.9177777777777778\n"
          ],
          "name": "stdout"
        }
      ]
    },
    {
      "cell_type": "code",
      "metadata": {
        "colab": {
          "base_uri": "https://localhost:8080/"
        },
        "id": "SNOt5EgwRf9I",
        "outputId": "bf5037bd-1e53-4b96-9949-438ff5f178c0"
      },
      "source": [
        "from sklearn.model_selection import train_test_split\n",
        "from sklearn.metrics import confusion_matrix\n",
        "import numpy as np\n",
        "\n",
        "Xtrain, Xtest, ytrain, ytest = train_test_split(data, targe, random_state=0)\n",
        "\n",
        "dtc = DecisionTreeClassifier(random_state=1, max_depth=7)\n",
        "for i in [100, 500, 1000, 2000]:\n",
        "    bag_model=BaggingClassifier(base_estimator=dtc, n_estimators=i, max_features=int(np.sqrt(data.shape[1])), bootstrap=True)\n",
        "    bag_model=bag_model.fit(Xtrain,ytrain)\n",
        "    ytest_pred=bag_model.predict(Xtest)\n",
        "    print(bag_model.score(Xtest, ytest))\n",
        "#print(confusion_matrix(ytest, ytest_pred)) "
      ],
      "execution_count": 10,
      "outputs": [
        {
          "output_type": "stream",
          "text": [
            "0.9555555555555556\n",
            "0.9466666666666667\n",
            "0.9444444444444444\n",
            "0.9511111111111111\n"
          ],
          "name": "stdout"
        }
      ]
    }
  ]
}