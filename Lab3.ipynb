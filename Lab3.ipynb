{
  "nbformat": 4,
  "nbformat_minor": 0,
  "metadata": {
    "colab": {
      "name": "Untitled5.ipynb",
      "provenance": [],
      "authorship_tag": "ABX9TyMCpPmxwfCASo1LTBYKjyTQ",
      "include_colab_link": true
    },
    "kernelspec": {
      "name": "python3",
      "display_name": "Python 3"
    },
    "language_info": {
      "name": "python"
    }
  },
  "cells": [
    {
      "cell_type": "markdown",
      "metadata": {
        "id": "view-in-github",
        "colab_type": "text"
      },
      "source": [
        "<a href=\"https://colab.research.google.com/github/Nataliia5722/Machine-Learning-Spring-2021/blob/main/Lab3.ipynb\" target=\"_parent\"><img src=\"https://colab.research.google.com/assets/colab-badge.svg\" alt=\"Open In Colab\"/></a>"
      ]
    },
    {
      "cell_type": "code",
      "metadata": {
        "id": "0kLda7m9MQrv"
      },
      "source": [
        "from sklearn.datasets import load_digits\n",
        "data, targe = load_digits(return_X_y=True)"
      ],
      "execution_count": 2,
      "outputs": []
    },
    {
      "cell_type": "code",
      "metadata": {
        "colab": {
          "base_uri": "https://localhost:8080/"
        },
        "id": "uyBhLsUOMVbf",
        "outputId": "60d94872-537f-4aa2-b08d-1a5945c6e2e0"
      },
      "source": [
        "data"
      ],
      "execution_count": 3,
      "outputs": [
        {
          "output_type": "execute_result",
          "data": {
            "text/plain": [
              "array([[ 0.,  0.,  5., ...,  0.,  0.,  0.],\n",
              "       [ 0.,  0.,  0., ..., 10.,  0.,  0.],\n",
              "       [ 0.,  0.,  0., ..., 16.,  9.,  0.],\n",
              "       ...,\n",
              "       [ 0.,  0.,  1., ...,  6.,  0.,  0.],\n",
              "       [ 0.,  0.,  2., ..., 12.,  0.,  0.],\n",
              "       [ 0.,  0., 10., ..., 12.,  1.,  0.]])"
            ]
          },
          "metadata": {
            "tags": []
          },
          "execution_count": 3
        }
      ]
    },
    {
      "cell_type": "code",
      "metadata": {
        "colab": {
          "base_uri": "https://localhost:8080/"
        },
        "id": "6aVqefieMZck",
        "outputId": "7c53d12c-3650-4a02-f1a3-cedcdc944a1d"
      },
      "source": [
        "targe"
      ],
      "execution_count": 4,
      "outputs": [
        {
          "output_type": "execute_result",
          "data": {
            "text/plain": [
              "array([0, 1, 2, ..., 8, 9, 8])"
            ]
          },
          "metadata": {
            "tags": []
          },
          "execution_count": 4
        }
      ]
    },
    {
      "cell_type": "code",
      "metadata": {
        "colab": {
          "base_uri": "https://localhost:8080/"
        },
        "id": "Pot3yObjcMmQ",
        "outputId": "50808202-23fe-4bb5-d9e8-856af3c0a827"
      },
      "source": [
        "from sklearn import model_selection\n",
        "from sklearn.ensemble import BaggingClassifier\n",
        "from sklearn.tree import DecisionTreeClassifier\n",
        "import pandas as pd\n",
        "  \n",
        "# initialize the base classifier\n",
        "base_cls = DecisionTreeClassifier()\n",
        "  \n",
        "# bagging classifier\n",
        "model = BaggingClassifier(base_estimator = base_cls, \n",
        "                          n_estimators = 500,\n",
        "                          random_state = 0)\n",
        "  \n",
        "results = model_selection.cross_val_score(model, data, targe)\n",
        "print(\"accuracy :\")\n",
        "print(results.mean())"
      ],
      "execution_count": 5,
      "outputs": [
        {
          "output_type": "stream",
          "text": [
            "accuracy :\n",
            "0.9120875889817395\n"
          ],
          "name": "stdout"
        }
      ]
    },
    {
      "cell_type": "code",
      "metadata": {
        "colab": {
          "base_uri": "https://localhost:8080/"
        },
        "id": "VsxShAFM51YG",
        "outputId": "efb57e97-180c-40d2-a26b-95c76de77a27"
      },
      "source": [
        "from sklearn import model_selection\n",
        "from sklearn.ensemble import BaggingClassifier\n",
        "from sklearn.tree import DecisionTreeClassifier\n",
        "import pandas as pd\n",
        "  \n",
        "# initialize the base classifier\n",
        "base_cls = DecisionTreeClassifier()\n",
        "  \n",
        "# bagging classifier\n",
        "model = BaggingClassifier(base_estimator = base_cls, \n",
        "                          n_estimators = 1500,\n",
        "                          random_state = 0)\n",
        "  \n",
        "results = model_selection.cross_val_score(model, data, targe)\n",
        "print(\"accuracy :\")\n",
        "print(results.mean())"
      ],
      "execution_count": 3,
      "outputs": [
        {
          "output_type": "stream",
          "text": [
            "accuracy :\n",
            "0.9115320334261838\n"
          ],
          "name": "stdout"
        }
      ]
    },
    {
      "cell_type": "code",
      "metadata": {
        "colab": {
          "base_uri": "https://localhost:8080/"
        },
        "id": "UOGNCJDqQGBn",
        "outputId": "2e53e934-e9c3-4f98-e1e6-68147bb97d7a"
      },
      "source": [
        "from sklearn.model_selection import train_test_split\n",
        "from sklearn.metrics import confusion_matrix\n",
        "\n",
        "Xtrain, Xtest, ytrain, ytest = train_test_split(data, targe, random_state=0)\n",
        "\n",
        "dtc = DecisionTreeClassifier(random_state=1)\n",
        "for i in [100, 500, 1000, 2000]:\n",
        "    bag_model=BaggingClassifier(base_estimator=dtc, n_estimators=i, bootstrap=True)\n",
        "    bag_model=bag_model.fit(Xtrain,ytrain)\n",
        "    ytest_pred=bag_model.predict(Xtest)\n",
        "    print(bag_model.score(Xtest, ytest))\n",
        "#print(confusion_matrix(ytest, ytest_pred)) "
      ],
      "execution_count": 18,
      "outputs": [
        {
          "output_type": "stream",
          "text": [
            "0.9533333333333334\n",
            "0.9555555555555556\n",
            "0.9533333333333334\n",
            "0.96\n"
          ],
          "name": "stdout"
        }
      ]
    },
    {
      "cell_type": "code",
      "metadata": {
        "colab": {
          "base_uri": "https://localhost:8080/"
        },
        "id": "SNOt5EgwRf9I",
        "outputId": "891f522f-caf3-4d72-f23f-f4a0f00b5eb2"
      },
      "source": [
        "from sklearn.model_selection import train_test_split\n",
        "from sklearn.metrics import confusion_matrix\n",
        "\n",
        "Xtrain, Xtest, ytrain, ytest = train_test_split(data, targe, random_state=0)\n",
        "\n",
        "dtc = DecisionTreeClassifier(random_state=1, max_depth=7)\n",
        "for i in [100, 500, 1000, 2000]:\n",
        "    bag_model=BaggingClassifier(base_estimator=dtc, n_estimators=i, bootstrap=True)\n",
        "    bag_model=bag_model.fit(Xtrain,ytrain)\n",
        "    ytest_pred=bag_model.predict(Xtest)\n",
        "    print(bag_model.score(Xtest, ytest))\n",
        "#print(confusion_matrix(ytest, ytest_pred)) "
      ],
      "execution_count": 21,
      "outputs": [
        {
          "output_type": "stream",
          "text": [
            "0.9111111111111111\n",
            "0.92\n",
            "0.92\n",
            "0.9155555555555556\n"
          ],
          "name": "stdout"
        }
      ]
    }
  ]
}